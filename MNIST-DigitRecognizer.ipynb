{
 "cells": [
  {
   "cell_type": "code",
   "execution_count": 15,
   "metadata": {},
   "outputs": [],
   "source": [
    "#importing useful libraries\n",
    "import numpy as np\n",
    "from keras.models import Sequential\n",
    "from keras.layers import Conv2D,MaxPool2D,Dropout,Dense,Flatten\n",
    "from keras.preprocessing import image\n",
    "import cv2\n",
    "from keras.utils import np_utils\n",
    "from sklearn.utils import shuffle\n",
    "import glob\n",
    "import pandas as pd\n",
    "import os\n",
    "import csv"
   ]
  },
  {
   "cell_type": "code",
   "execution_count": 2,
   "metadata": {},
   "outputs": [],
   "source": [
    "#importing dataset and dividing them in training and testing data\n",
    "train_set=pd.read_csv('.\\\\digit-recognizer\\\\train.csv')\n",
    "test_set=pd.read_csv('.\\\\digit-recognizer\\\\test.csv')\n",
    "Y=train_set['label']\n",
    "X=train_set.drop(columns='label')\n",
    "X=np.array(X).reshape(-1,28,28)\n",
    "Y=np.array(Y).reshape(-1,1)"
   ]
  },
  {
   "cell_type": "code",
   "execution_count": 3,
   "metadata": {},
   "outputs": [
    {
     "data": {
      "text/plain": [
       "array([1], dtype=int64)"
      ]
     },
     "execution_count": 3,
     "metadata": {},
     "output_type": "execute_result"
    }
   ],
   "source": [
    "Y[0]"
   ]
  },
  {
   "cell_type": "code",
   "execution_count": 4,
   "metadata": {},
   "outputs": [
    {
     "name": "stdout",
     "output_type": "stream",
     "text": [
      "[1]\n"
     ]
    },
    {
     "data": {
      "text/plain": [
       "<matplotlib.image.AxesImage at 0x23368a33e48>"
      ]
     },
     "execution_count": 4,
     "metadata": {},
     "output_type": "execute_result"
    },
    {
     "data": {
      "image/png": "[encoded data removed]",
      "text/plain": [
       "<Figure size 432x288 with 1 Axes>"
      ]
     },
     "metadata": {
      "needs_background": "light"
     },
     "output_type": "display_data"
    }
   ],
   "source": [
    "import matplotlib.pyplot as plt\n",
    "%matplotlib inline \n",
    "image_index = 0 # You may select anything up to 42,000\n",
    "print(Y[image_index]) # The label is 1\n",
    "plt.imshow(X[image_index], cmap='Greys')"
   ]
  },
  {
   "cell_type": "code",
   "execution_count": 5,
   "metadata": {},
   "outputs": [],
   "source": [
    "from sklearn.model_selection import train_test_split\n",
    "X_train,X_cv,y_train,y_cv=train_test_split(X,Y,test_size=0.3,random_state=0)"
   ]
  },
  {
   "cell_type": "code",
   "execution_count": 6,
   "metadata": {},
   "outputs": [
    {
     "data": {
      "text/plain": [
       "(12600, 28, 28)"
      ]
     },
     "execution_count": 6,
     "metadata": {},
     "output_type": "execute_result"
    }
   ],
   "source": [
    "X_cv.shape"
   ]
  },
  {
   "cell_type": "code",
   "execution_count": 7,
   "metadata": {},
   "outputs": [],
   "source": [
    "y_train=np_utils.to_categorical(y_train,num_classes=10)\n",
    "y_cv=np_utils.to_categorical(y_cv,num_classes=10)"
   ]
  },
  {
   "cell_type": "code",
   "execution_count": 8,
   "metadata": {},
   "outputs": [
    {
     "name": "stdout",
     "output_type": "stream",
     "text": [
      "x_train shape: (29400, 28, 28, 1)\n",
      "Number of images in x_train 29400\n",
      "Number of images in x_test 12600\n"
     ]
    }
   ],
   "source": [
    "# Reshaping the array to 4-dims so that it can work with the Keras API\n",
    "X_train = X_train.reshape(X_train.shape[0], 28, 28, 1)\n",
    "X_cv = X_cv.reshape(X_cv.shape[0], 28, 28, 1)\n",
    "input_shape = (28, 28, 1)\n",
    "# Making sure that the values are float so that we can get decimal points after division\n",
    "X_train = X_train.astype('float32')\n",
    "X_cv = X_cv.astype('float32')\n",
    "# Normalizing the RGB codes by dividing it to the max RGB value.\n",
    "X_train /= 255\n",
    "X_cv /= 255\n",
    "print('x_train shape:', X_train.shape)\n",
    "print('Number of images in x_train', X_train.shape[0])\n",
    "print('Number of images in x_test', X_cv.shape[0])"
   ]
  },
  {
   "cell_type": "code",
   "execution_count": 9,
   "metadata": {},
   "outputs": [
    {
     "name": "stdout",
     "output_type": "stream",
     "text": [
      "WARNING:tensorflow:From C:\\Users\\nigam\\Anaconda3\\envs\\gputest\\lib\\site-packages\\keras\\backend\\tensorflow_backend.py:4070: The name tf.nn.max_pool is deprecated. Please use tf.nn.max_pool2d instead.\n",
      "\n",
      "Model: \"sequential_1\"\n",
      "_________________________________________________________________\n",
      "Layer (type)                 Output Shape              Param #   \n",
      "=================================================================\n",
      "conv2d_1 (Conv2D)            (None, 26, 26, 32)        320       \n",
      "_________________________________________________________________\n",
      "conv2d_2 (Conv2D)            (None, 24, 24, 32)        9248      \n",
      "_________________________________________________________________\n",
      "max_pooling2d_1 (MaxPooling2 (None, 12, 12, 32)        0         \n",
      "_________________________________________________________________\n",
      "conv2d_3 (Conv2D)            (None, 10, 10, 16)        4624      \n",
      "_________________________________________________________________\n",
      "conv2d_4 (Conv2D)            (None, 8, 8, 16)          2320      \n",
      "_________________________________________________________________\n",
      "max_pooling2d_2 (MaxPooling2 (None, 4, 4, 16)          0         \n",
      "_________________________________________________________________\n",
      "dropout_1 (Dropout)          (None, 4, 4, 16)          0         \n",
      "_________________________________________________________________\n",
      "conv2d_5 (Conv2D)            (None, 2, 2, 64)          9280      \n",
      "_________________________________________________________________\n",
      "max_pooling2d_3 (MaxPooling2 (None, 1, 1, 64)          0         \n",
      "_________________________________________________________________\n",
      "dropout_2 (Dropout)          (None, 1, 1, 64)          0         \n",
      "_________________________________________________________________\n",
      "flatten_1 (Flatten)          (None, 64)                0         \n",
      "_________________________________________________________________\n",
      "dense_1 (Dense)              (None, 512)               33280     \n",
      "_________________________________________________________________\n",
      "dropout_3 (Dropout)          (None, 512)               0         \n",
      "_________________________________________________________________\n",
      "dense_2 (Dense)              (None, 10)                5130      \n",
      "=================================================================\n",
      "Total params: 64,202\n",
      "Trainable params: 64,202\n",
      "Non-trainable params: 0\n",
      "_________________________________________________________________\n"
     ]
    }
   ],
   "source": [
    "# creating the model\n",
    "model=Sequential()\n",
    "model.add(Conv2D(filters=32,kernel_size=(3,3),activation=\"relu\",input_shape=(28,28,1)))\n",
    "model.add(Conv2D(filters=32,kernel_size=(3,3),activation=\"relu\"))\n",
    "model.add(MaxPool2D(pool_size=(2,2)))\n",
    "model.add(Conv2D(filters=16,kernel_size=(3,3),activation=\"relu\"))\n",
    "model.add(Conv2D(filters=16,kernel_size=(3,3),activation=\"relu\"))\n",
    "model.add(MaxPool2D(pool_size=(2,2)))\n",
    "model.add(Dropout(0.25))\n",
    "model.add(Conv2D(filters=64,kernel_size=(3,3),activation=\"relu\"))\n",
    "model.add(MaxPool2D(pool_size=(2,2)))\n",
    "model.add(Dropout(0.25))\n",
    "model.add(Flatten())\n",
    "model.add(Dense(512,activation=\"relu\"))\n",
    "model.add(Dropout(0.25))\n",
    "model.add(Dense(10,activation=\"softmax\"))\n",
    "model.summary()"
   ]
  },
  {
   "cell_type": "code",
   "execution_count": 10,
   "metadata": {},
   "outputs": [],
   "source": [
    "model.compile(optimizer=\"RMSprop\",loss=\"categorical_crossentropy\",metrics=[\"accuracy\"])"
   ]
  },
  {
   "cell_type": "code",
   "execution_count": 11,
   "metadata": {},
   "outputs": [
    {
     "name": "stdout",
     "output_type": "stream",
     "text": [
      "WARNING:tensorflow:From C:\\Users\\nigam\\Anaconda3\\envs\\gputest\\lib\\site-packages\\keras\\backend\\tensorflow_backend.py:422: The name tf.global_variables is deprecated. Please use tf.compat.v1.global_variables instead.\n",
      "\n",
      "Train on 29400 samples, validate on 12600 samples\n",
      "Epoch 1/20\n",
      "29400/29400 [==============================] - 25s 846us/step - loss: 0.6909 - accuracy: 0.7737 - val_loss: 0.1564 - val_accuracy: 0.9551\n",
      "Epoch 2/20\n",
      "29400/29400 [==============================] - 8s 278us/step - loss: 0.2204 - accuracy: 0.9316 - val_loss: 0.0977 - val_accuracy: 0.9704\n",
      "Epoch 3/20\n",
      "29400/29400 [==============================] - 8s 279us/step - loss: 0.1533 - accuracy: 0.9549 - val_loss: 0.0822 - val_accuracy: 0.9747\n",
      "Epoch 4/20\n",
      "29400/29400 [==============================] - 8s 276us/step - loss: 0.1232 - accuracy: 0.9617 - val_loss: 0.0590 - val_accuracy: 0.9798\n",
      "Epoch 5/20\n",
      "29400/29400 [==============================] - 8s 276us/step - loss: 0.1044 - accuracy: 0.9691 - val_loss: 0.0560 - val_accuracy: 0.9820\n",
      "Epoch 6/20\n",
      "29400/29400 [==============================] - 8s 276us/step - loss: 0.0898 - accuracy: 0.9739 - val_loss: 0.0695 - val_accuracy: 0.9782\n",
      "Epoch 7/20\n",
      "29400/29400 [==============================] - 8s 275us/step - loss: 0.0819 - accuracy: 0.9757 - val_loss: 0.0717 - val_accuracy: 0.9775\n",
      "Epoch 8/20\n",
      "29400/29400 [==============================] - 8s 275us/step - loss: 0.0790 - accuracy: 0.9764 - val_loss: 0.0456 - val_accuracy: 0.9863\n",
      "Epoch 9/20\n",
      "29400/29400 [==============================] - 8s 276us/step - loss: 0.0687 - accuracy: 0.9795 - val_loss: 0.0585 - val_accuracy: 0.9821\n",
      "Epoch 10/20\n",
      "29400/29400 [==============================] - 8s 276us/step - loss: 0.0635 - accuracy: 0.9803 - val_loss: 0.0407 - val_accuracy: 0.9869\n",
      "Epoch 11/20\n",
      "29400/29400 [==============================] - 8s 277us/step - loss: 0.0602 - accuracy: 0.9822 - val_loss: 0.0374 - val_accuracy: 0.9875\n",
      "Epoch 12/20\n",
      "29400/29400 [==============================] - 8s 277us/step - loss: 0.0570 - accuracy: 0.9826 - val_loss: 0.0384 - val_accuracy: 0.9871\n",
      "Epoch 13/20\n",
      "29400/29400 [==============================] - 8s 277us/step - loss: 0.0557 - accuracy: 0.9830 - val_loss: 0.0367 - val_accuracy: 0.9886\n",
      "Epoch 14/20\n",
      "29400/29400 [==============================] - 8s 275us/step - loss: 0.0518 - accuracy: 0.9846 - val_loss: 0.0432 - val_accuracy: 0.9861\n",
      "Epoch 15/20\n",
      "29400/29400 [==============================] - 8s 275us/step - loss: 0.0505 - accuracy: 0.9850 - val_loss: 0.0325 - val_accuracy: 0.9902\n",
      "Epoch 16/20\n",
      "29400/29400 [==============================] - 8s 278us/step - loss: 0.0485 - accuracy: 0.9846 - val_loss: 0.0384 - val_accuracy: 0.9887\n",
      "Epoch 17/20\n",
      "29400/29400 [==============================] - 8s 278us/step - loss: 0.0449 - accuracy: 0.9868 - val_loss: 0.0358 - val_accuracy: 0.9899\n",
      "Epoch 18/20\n",
      "29400/29400 [==============================] - 8s 276us/step - loss: 0.0455 - accuracy: 0.9852 - val_loss: 0.0287 - val_accuracy: 0.9919\n",
      "Epoch 19/20\n",
      "29400/29400 [==============================] - 8s 276us/step - loss: 0.0429 - accuracy: 0.9867 - val_loss: 0.0363 - val_accuracy: 0.9902\n",
      "Epoch 20/20\n",
      "29400/29400 [==============================] - 8s 277us/step - loss: 0.0427 - accuracy: 0.9871 - val_loss: 0.0343 - val_accuracy: 0.9895\n"
     ]
    },
    {
     "data": {
      "text/plain": [
       "<keras.callbacks.callbacks.History at 0x23322582548>"
      ]
     },
     "execution_count": 11,
     "metadata": {},
     "output_type": "execute_result"
    }
   ],
   "source": [
    "model.fit(x=X_train,y=y_train,batch_size=125,epochs=20,validation_data=(X_cv,y_cv))"
   ]
  },
  {
   "cell_type": "code",
   "execution_count": 12,
   "metadata": {},
   "outputs": [
    {
     "name": "stdout",
     "output_type": "stream",
     "text": [
      "Saved model to disk\n"
     ]
    }
   ],
   "source": [
    "from keras.models import model_from_json\n",
    "model_json = model.to_json()\n",
    "with open(\"mnist_model.json\", \"w\") as json_file:\n",
    "    json_file.write(model_json)\n",
    "# serialize weights to HDF5\n",
    "model.save_weights(\"mnist_weights.h5\")\n",
    "print(\"Saved model to disk\")"
   ]
  },
  {
   "cell_type": "code",
   "execution_count": 16,
   "metadata": {},
   "outputs": [],
   "source": [
    "#list storing all the prediction for test dataset\n",
    "all_predictions=[]\n",
    "X_test=np.array(test_set).reshape(-1,28,28)\n",
    "for i in range(0,28000):\n",
    "  predictions=model.predict(X_test[i].reshape(1,28,28,1))\n",
    "  prediction=predictions.argmax()\n",
    "  all_predictions.append(prediction)\n",
    "\n",
    "#storing all prediction in the form of csv file \n",
    "\n",
    "with open('submission_final.csv', 'w', newline='') as file:\n",
    "    writer = csv.writer(file)\n",
    "    writer.writerow([\"ImageId\", \"Label\"])\n",
    "    for i in range(0,28000):\n",
    "      writer.writerow([i+1,all_predictions[i]])"
   ]
  },
  {
   "cell_type": "code",
   "execution_count": null,
   "metadata": {},
   "outputs": [],
   "source": []
  }
 ],
 "metadata": {
  "kernelspec": {
   "display_name": "gputest",
   "language": "python",
   "name": "gputest"
  },
  "language_info": {
   "codemirror_mode": {
    "name": "ipython",
    "version": 3
   },
   "file_extension": ".py",
   "mimetype": "text/x-python",
   "name": "python",
   "nbconvert_exporter": "python",
   "pygments_lexer": "ipython3",
   "version": "3.7.4"
  }
 },
 "nbformat": 4,
 "nbformat_minor": 2
}
