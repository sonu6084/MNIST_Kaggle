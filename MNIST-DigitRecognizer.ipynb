{
 "cells": [
  {
   "cell_type": "code",
   "execution_count": 31,
   "metadata": {},
   "outputs": [],
   "source": [
    "#importing useful libraries\n",
    "import numpy as np\n",
    "from keras.models import Sequential\n",
    "from keras.layers import Conv2D,MaxPool2D,Dropout,Dense,Flatten\n",
    "from keras.preprocessing import image\n",
    "import cv2\n",
    "from keras.utils import np_utils\n",
    "from sklearn.utils import shuffle\n",
    "import glob\n",
    "import pandas as pd\n",
    "import os"
   ]
  },
  {
   "cell_type": "code",
   "execution_count": 42,
   "metadata": {},
   "outputs": [],
   "source": [
    "#importing dataset and dividing them in training and testing data\n",
    "train_set=pd.read_csv('.\\\\digit-recognizer\\\\train.csv')\n",
    "test_set=pd.read_csv('.\\\\digit-recognizer\\\\test.csv')\n",
    "Y=train_set['label']\n",
    "X=train_set.drop(columns='label')\n",
    "X=np.array(X).reshape(-1,28,28)\n",
    "Y=np.array(Y).reshape(-1,1)"
   ]
  },
  {
   "cell_type": "code",
   "execution_count": 44,
   "metadata": {},
   "outputs": [
    {
     "data": {
      "text/plain": [
       "array([1], dtype=int64)"
      ]
     },
     "execution_count": 44,
     "metadata": {},
     "output_type": "execute_result"
    }
   ],
   "source": [
    "Y[0]"
   ]
  },
  {
   "cell_type": "code",
   "execution_count": 48,
   "metadata": {},
   "outputs": [
    {
     "name": "stdout",
     "output_type": "stream",
     "text": [
      "[1]\n"
     ]
    },
    {
     "data": {
      "text/plain": [
       "<matplotlib.image.AxesImage at 0x1d02aec9508>"
      ]
     },
     "execution_count": 48,
     "metadata": {},
     "output_type": "execute_result"
    },
    {
     "data": {
      "image/png": "[encoded data removed]",
      "text/plain": [
       "<Figure size 432x288 with 1 Axes>"
      ]
     },
     "metadata": {
      "needs_background": "light"
     },
     "output_type": "display_data"
    }
   ],
   "source": [
    "import matplotlib.pyplot as plt\n",
    "%matplotlib inline \n",
    "image_index = 0 # You may select anything up to 42,000\n",
    "print(Y[image_index]) # The label is 1\n",
    "plt.imshow(X[image_index], cmap='Greys')"
   ]
  },
  {
   "cell_type": "code",
   "execution_count": 52,
   "metadata": {},
   "outputs": [],
   "source": [
    "from sklearn.model_selection import train_test_split\n",
    "X_train,X_cv,y_train,y_cv=train_test_split(X,Y,test_size=0.3,random_state=0)"
   ]
  },
  {
   "cell_type": "code",
   "execution_count": 53,
   "metadata": {},
   "outputs": [
    {
     "data": {
      "text/plain": [
       "(12600, 28, 28)"
      ]
     },
     "execution_count": 53,
     "metadata": {},
     "output_type": "execute_result"
    }
   ],
   "source": [
    "X_cv.shape"
   ]
  },
  {
   "cell_type": "code",
   "execution_count": 58,
   "metadata": {},
   "outputs": [],
   "source": [
    "y_train=np_utils.to_categorical(y_train,num_classes=10)\n",
    "y_cv=np_utils.to_categorical(y_cv,num_classes=10)"
   ]
  },
  {
   "cell_type": "code",
   "execution_count": 54,
   "metadata": {},
   "outputs": [
    {
     "name": "stdout",
     "output_type": "stream",
     "text": [
      "x_train shape: (29400, 28, 28, 1)\n",
      "Number of images in x_train 29400\n",
      "Number of images in x_test 12600\n"
     ]
    }
   ],
   "source": [
    "# Reshaping the array to 4-dims so that it can work with the Keras API\n",
    "X_train = X_train.reshape(X_train.shape[0], 28, 28, 1)\n",
    "X_cv = X_cv.reshape(X_cv.shape[0], 28, 28, 1)\n",
    "input_shape = (28, 28, 1)\n",
    "# Making sure that the values are float so that we can get decimal points after division\n",
    "X_train = X_train.astype('float32')\n",
    "X_cv = X_cv.astype('float32')\n",
    "# Normalizing the RGB codes by dividing it to the max RGB value.\n",
    "X_train /= 255\n",
    "X_cv /= 255\n",
    "print('x_train shape:', X_train.shape)\n",
    "print('Number of images in x_train', X_train.shape[0])\n",
    "print('Number of images in x_test', X_cv.shape[0])"
   ]
  },
  {
   "cell_type": "code",
   "execution_count": 55,
   "metadata": {},
   "outputs": [
    {
     "name": "stdout",
     "output_type": "stream",
     "text": [
      "Model: \"sequential_3\"\n",
      "_________________________________________________________________\n",
      "Layer (type)                 Output Shape              Param #   \n",
      "=================================================================\n",
      "conv2d_12 (Conv2D)           (None, 26, 26, 32)        320       \n",
      "_________________________________________________________________\n",
      "conv2d_13 (Conv2D)           (None, 24, 24, 32)        9248      \n",
      "_________________________________________________________________\n",
      "max_pooling2d_6 (MaxPooling2 (None, 12, 12, 32)        0         \n",
      "_________________________________________________________________\n",
      "conv2d_14 (Conv2D)           (None, 10, 10, 16)        4624      \n",
      "_________________________________________________________________\n",
      "conv2d_15 (Conv2D)           (None, 8, 8, 16)          2320      \n",
      "_________________________________________________________________\n",
      "max_pooling2d_7 (MaxPooling2 (None, 4, 4, 16)          0         \n",
      "_________________________________________________________________\n",
      "dropout_5 (Dropout)          (None, 4, 4, 16)          0         \n",
      "_________________________________________________________________\n",
      "conv2d_16 (Conv2D)           (None, 2, 2, 64)          9280      \n",
      "_________________________________________________________________\n",
      "max_pooling2d_8 (MaxPooling2 (None, 1, 1, 64)          0         \n",
      "_________________________________________________________________\n",
      "dropout_6 (Dropout)          (None, 1, 1, 64)          0         \n",
      "_________________________________________________________________\n",
      "flatten_2 (Flatten)          (None, 64)                0         \n",
      "_________________________________________________________________\n",
      "dense_3 (Dense)              (None, 512)               33280     \n",
      "_________________________________________________________________\n",
      "dropout_7 (Dropout)          (None, 512)               0         \n",
      "_________________________________________________________________\n",
      "dense_4 (Dense)              (None, 10)                5130      \n",
      "=================================================================\n",
      "Total params: 64,202\n",
      "Trainable params: 64,202\n",
      "Non-trainable params: 0\n",
      "_________________________________________________________________\n"
     ]
    }
   ],
   "source": [
    "# creating the model\n",
    "model=Sequential()\n",
    "model.add(Conv2D(filters=32,kernel_size=(3,3),activation=\"relu\",input_shape=(28,28,1)))\n",
    "model.add(Conv2D(filters=32,kernel_size=(3,3),activation=\"relu\"))\n",
    "model.add(MaxPool2D(pool_size=(2,2)))\n",
    "model.add(Conv2D(filters=16,kernel_size=(3,3),activation=\"relu\"))\n",
    "model.add(Conv2D(filters=16,kernel_size=(3,3),activation=\"relu\"))\n",
    "model.add(MaxPool2D(pool_size=(2,2)))\n",
    "model.add(Dropout(0.25))\n",
    "model.add(Conv2D(filters=64,kernel_size=(3,3),activation=\"relu\"))\n",
    "model.add(MaxPool2D(pool_size=(2,2)))\n",
    "model.add(Dropout(0.25))\n",
    "model.add(Flatten())\n",
    "model.add(Dense(512,activation=\"relu\"))\n",
    "model.add(Dropout(0.25))\n",
    "model.add(Dense(10,activation=\"softmax\"))\n",
    "model.summary()"
   ]
  },
  {
   "cell_type": "code",
   "execution_count": 56,
   "metadata": {},
   "outputs": [],
   "source": [
    "model.compile(optimizer=\"RMSprop\",loss=\"categorical_crossentropy\",metrics=[\"accuracy\"])"
   ]
  },
  {
   "cell_type": "code",
   "execution_count": 59,
   "metadata": {},
   "outputs": [
    {
     "name": "stdout",
     "output_type": "stream",
     "text": [
      "WARNING:tensorflow:From C:\\Users\\nigam\\Anaconda3\\envs\\gputest\\lib\\site-packages\\keras\\backend\\tensorflow_backend.py:422: The name tf.global_variables is deprecated. Please use tf.compat.v1.global_variables instead.\n",
      "\n",
      "Train on 29400 samples, validate on 12600 samples\n",
      "Epoch 1/20\n",
      "29400/29400 [==============================] - 18s 629us/step - loss: 0.7498 - accuracy: 0.7493 - val_loss: 0.2206 - val_accuracy: 0.9319\n",
      "Epoch 2/20\n",
      "29400/29400 [==============================] - 6s 209us/step - loss: 0.2416 - accuracy: 0.9250 - val_loss: 0.1214 - val_accuracy: 0.9623\n",
      "Epoch 3/20\n",
      "29400/29400 [==============================] - 6s 212us/step - loss: 0.1617 - accuracy: 0.9498 - val_loss: 0.0733 - val_accuracy: 0.9771\n",
      "Epoch 4/20\n",
      "29400/29400 [==============================] - 7s 223us/step - loss: 0.1236 - accuracy: 0.9620 - val_loss: 0.0701 - val_accuracy: 0.9784\n",
      "Epoch 5/20\n",
      "29400/29400 [==============================] - 7s 224us/step - loss: 0.1065 - accuracy: 0.9674 - val_loss: 0.0565 - val_accuracy: 0.9818\n",
      "Epoch 6/20\n",
      "29400/29400 [==============================] - 7s 227us/step - loss: 0.0902 - accuracy: 0.9731 - val_loss: 0.0761 - val_accuracy: 0.9753\n",
      "Epoch 7/20\n",
      "29400/29400 [==============================] - 7s 224us/step - loss: 0.0822 - accuracy: 0.9749 - val_loss: 0.0474 - val_accuracy: 0.9856\n",
      "Epoch 8/20\n",
      "29400/29400 [==============================] - 7s 227us/step - loss: 0.0748 - accuracy: 0.9776 - val_loss: 0.0593 - val_accuracy: 0.9821\n",
      "Epoch 9/20\n",
      "29400/29400 [==============================] - 7s 227us/step - loss: 0.0681 - accuracy: 0.9793 - val_loss: 0.0481 - val_accuracy: 0.9853\n",
      "Epoch 10/20\n",
      "29400/29400 [==============================] - 7s 226us/step - loss: 0.0655 - accuracy: 0.9805 - val_loss: 0.0471 - val_accuracy: 0.9854\n",
      "Epoch 11/20\n",
      "29400/29400 [==============================] - 7s 226us/step - loss: 0.0632 - accuracy: 0.9820 - val_loss: 0.0426 - val_accuracy: 0.9859\n",
      "Epoch 12/20\n",
      "29400/29400 [==============================] - 7s 227us/step - loss: 0.0561 - accuracy: 0.9824 - val_loss: 0.0376 - val_accuracy: 0.9883\n",
      "Epoch 13/20\n",
      "29400/29400 [==============================] - 7s 226us/step - loss: 0.0556 - accuracy: 0.9835 - val_loss: 0.0440 - val_accuracy: 0.9883\n",
      "Epoch 14/20\n",
      "29400/29400 [==============================] - 7s 227us/step - loss: 0.0508 - accuracy: 0.9838 - val_loss: 0.0392 - val_accuracy: 0.9885\n",
      "Epoch 15/20\n",
      "29400/29400 [==============================] - 7s 227us/step - loss: 0.0522 - accuracy: 0.9844 - val_loss: 0.0373 - val_accuracy: 0.9889\n",
      "Epoch 16/20\n",
      "29400/29400 [==============================] - 7s 226us/step - loss: 0.0493 - accuracy: 0.9845 - val_loss: 0.0342 - val_accuracy: 0.9900\n",
      "Epoch 17/20\n",
      "29400/29400 [==============================] - 7s 226us/step - loss: 0.0436 - accuracy: 0.9870 - val_loss: 0.0379 - val_accuracy: 0.9892\n",
      "Epoch 18/20\n",
      "29400/29400 [==============================] - 7s 226us/step - loss: 0.0456 - accuracy: 0.9858 - val_loss: 0.0360 - val_accuracy: 0.9887\n",
      "Epoch 19/20\n",
      "29400/29400 [==============================] - 7s 227us/step - loss: 0.0422 - accuracy: 0.9872 - val_loss: 0.0331 - val_accuracy: 0.9898\n",
      "Epoch 20/20\n",
      "29400/29400 [==============================] - 7s 226us/step - loss: 0.0412 - accuracy: 0.9878 - val_loss: 0.0444 - val_accuracy: 0.9883\n"
     ]
    },
    {
     "data": {
      "text/plain": [
       "<keras.callbacks.callbacks.History at 0x1d02b60fb08>"
      ]
     },
     "execution_count": 59,
     "metadata": {},
     "output_type": "execute_result"
    }
   ],
   "source": [
    "model.fit(x=X_train,y=y_train,batch_size=125,epochs=20,validation_data=(X_cv,y_cv))"
   ]
  },
  {
   "cell_type": "code",
   "execution_count": null,
   "metadata": {},
   "outputs": [],
   "source": [
    "from keras.models import model_from_json\n",
    "model_json = model.to_json()\n",
    "with open(\"mnist_model.json\", \"w\") as json_file:\n",
    "    json_file.write(model_json)\n",
    "# serialize weights to HDF5\n",
    "model.save_weights(\"mnist_weights.h5\")\n",
    "print(\"Saved model to disk\")"
   ]
  },
  {
   "cell_type": "code",
   "execution_count": null,
   "metadata": {},
   "outputs": [],
   "source": []
  }
 ],
 "metadata": {
  "kernelspec": {
   "display_name": "gputest",
   "language": "python",
   "name": "gputest"
  },
  "language_info": {
   "codemirror_mode": {
    "name": "ipython",
    "version": 3
   },
   "file_extension": ".py",
   "mimetype": "text/x-python",
   "name": "python",
   "nbconvert_exporter": "python",
   "pygments_lexer": "ipython3",
   "version": "3.7.4"
  }
 },
 "nbformat": 4,
 "nbformat_minor": 2
}
